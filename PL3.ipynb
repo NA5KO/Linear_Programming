{
 "cells": [
  {
   "cell_type": "code",
   "execution_count": 1,
   "id": "859f916a",
   "metadata": {},
   "outputs": [],
   "source": [
    "from gurobipy import *"
   ]
  },
  {
   "cell_type": "code",
   "execution_count": 5,
   "id": "48a2aaa8",
   "metadata": {
    "scrolled": true
   },
   "outputs": [],
   "source": [
    "m= Model(name = \"PL3\")"
   ]
  },
  {
   "cell_type": "code",
   "execution_count": 7,
   "id": "4da6773b",
   "metadata": {},
   "outputs": [],
   "source": [
    "x1=m.addVar (name=\"x1\")\n",
    "x2=m.addVar (name=\"x2\")\n",
    "x3=m.addVar (name=\"x3\")\n",
    "x4=m.addVar (name=\"x4\")\n",
    "x5=m.addVar (name=\"x5\")\n",
    "x6=m.addVar (name=\"x6\")\n",
    "x7=m.addVar (name=\"x7\")"
   ]
  },
  {
   "cell_type": "code",
   "execution_count": 8,
   "id": "5e505361",
   "metadata": {},
   "outputs": [],
   "source": [
    "obj_func=x1+x2+x3+x4+x5+x6+x7\n",
    "m.setObjective(obj_func, GRB.MINIMIZE)"
   ]
  },
  {
   "cell_type": "code",
   "execution_count": 9,
   "id": "aa50197e",
   "metadata": {},
   "outputs": [],
   "source": [
    "C1=m.addConstr(x1+x4+x5+x6+x7 >=17 )#replace 17 with nb_emp donné in all constraints\n",
    "C2=m.addConstr(x1+x2+x5+x6+x7 >=13 )\n",
    "C3=m.addConstr(x1+x2+x3+x6+x7 >=15 )\n",
    "C4=m.addConstr(x1+x2+x3+x4+x7 >=19 )\n",
    "C5=m.addConstr(x1+x2+x3+x4+x5 >=14 )\n",
    "C6=m.addConstr(x2+x3+x4+x5+x6 >=16 )\n",
    "C7=m.addConstr(x3+x4+x5+x6+x7 >=11 )\n",
    "#controle de saisie sur les x >=0"
   ]
  },
  {
   "cell_type": "code",
   "execution_count": 13,
   "id": "ef71c95e",
   "metadata": {},
   "outputs": [
    {
     "name": "stdout",
     "output_type": "stream",
     "text": [
      "Gurobi Optimizer version 10.0.3 build v10.0.3rc0 (win64)\n",
      "\n",
      "CPU model: 12th Gen Intel(R) Core(TM) i7-12700H, instruction set [SSE2|AVX|AVX2]\n",
      "Thread count: 14 physical cores, 20 logical processors, using up to 20 threads\n",
      "\n",
      "Optimize a model with 7 rows, 11 columns and 35 nonzeros\n",
      "Coefficient statistics:\n",
      "  Matrix range     [1e+00, 1e+00]\n",
      "  Objective range  [1e+00, 1e+00]\n",
      "  Bounds range     [0e+00, 0e+00]\n",
      "  RHS range        [1e+01, 2e+01]\n",
      "\n",
      "Solved in 0 iterations and 0.00 seconds (0.00 work units)\n",
      "Optimal objective  2.233333333e+01\n"
     ]
    }
   ],
   "source": [
    "m.optimize()\n",
    "#m.write(\"PL3.txt\")"
   ]
  },
  {
   "cell_type": "code",
   "execution_count": null,
   "id": "2ab6a73f",
   "metadata": {},
   "outputs": [],
   "source": [
    "print('La valeur optimale est : %f' % m.objVal)\n",
    "for v in m.getVars() :\n",
    "    print('%s: %g' % (v.varName, v.x))"
   ]
  }
 ],
 "metadata": {
  "kernelspec": {
   "display_name": "Python 3 (ipykernel)",
   "language": "python",
   "name": "python3"
  },
  "language_info": {
   "codemirror_mode": {
    "name": "ipython",
    "version": 3
   },
   "file_extension": ".py",
   "mimetype": "text/x-python",
   "name": "python",
   "nbconvert_exporter": "python",
   "pygments_lexer": "ipython3",
   "version": "3.11.5"
  }
 },
 "nbformat": 4,
 "nbformat_minor": 5
}
